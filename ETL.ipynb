{
 "cells": [
  {
   "cell_type": "code",
   "execution_count": null,
   "metadata": {},
   "outputs": [],
   "source": [
    "#pip install pandas\n",
    "\n",
    "import pandas as pd\n",
    "\n",
    "#All 6 csv aviable from AirBNB web\n",
    "csv_files = [\n",
    "    \"DATA/reservations.csv\",\n",
    "    \"DATA/reservations (1).csv\",\n",
    "    \"DATA/reservations (2).csv\",\n",
    "    \"DATA/reservations (3).csv\",\n",
    "    \"DATA/reservations (4).csv\",\n",
    "    \"DATA/reservations (5).csv\",\n",
    "]\n",
    "\n",
    "# Read and concatenate all CSVs\n",
    "dataframes = [pd.read_csv(file) for file in csv_files]\n",
    "combined_df = pd.concat(dataframes, ignore_index=True)\n",
    "\n",
    "print(combined_df.head())"
   ]
  }
 ],
 "metadata": {
  "kernelspec": {
   "display_name": "Python 3",
   "language": "python",
   "name": "python3"
  },
  "language_info": {
   "name": "python",
   "version": "3.11.2"
  }
 },
 "nbformat": 4,
 "nbformat_minor": 2
}
